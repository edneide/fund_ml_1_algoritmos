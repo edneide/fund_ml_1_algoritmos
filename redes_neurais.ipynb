{
 "cells": [
  {
   "cell_type": "markdown",
   "id": "64eb79c0",
   "metadata": {
    "heading_collapsed": true
   },
   "source": [
    "# Exemplo 1: Um perceptron simples"
   ]
  },
  {
   "cell_type": "code",
   "execution_count": 1,
   "id": "c7a9b765",
   "metadata": {
    "ExecuteTime": {
     "end_time": "2024-03-27T17:15:00.833170Z",
     "start_time": "2024-03-27T17:14:45.718511Z"
    },
    "hidden": true
   },
   "outputs": [
    {
     "name": "stdout",
     "output_type": "stream",
     "text": [
      "       0    1    2    3               4\n",
      "0    5.1  3.5  1.4  0.2     Iris-setosa\n",
      "1    4.9  3.0  1.4  0.2     Iris-setosa\n",
      "2    4.7  3.2  1.3  0.2     Iris-setosa\n",
      "3    4.6  3.1  1.5  0.2     Iris-setosa\n",
      "4    5.0  3.6  1.4  0.2     Iris-setosa\n",
      "..   ...  ...  ...  ...             ...\n",
      "145  6.7  3.0  5.2  2.3  Iris-virginica\n",
      "146  6.3  2.5  5.0  1.9  Iris-virginica\n",
      "147  6.5  3.0  5.2  2.0  Iris-virginica\n",
      "148  6.2  3.4  5.4  2.3  Iris-virginica\n",
      "149  5.9  3.0  5.1  1.8  Iris-virginica\n",
      "\n",
      "[150 rows x 5 columns]\n"
     ]
    }
   ],
   "source": [
    "import numpy as np\n",
    "import pandas as pd\n",
    "import matplotlib.pyplot as plt\n",
    "def load_data():\n",
    "    URL_='https://archive.ics.uci.edu/ml/machine-learning-databases/iris/iris.data'\n",
    "    data = pd.read_csv(URL_, header = None)\n",
    "    print(data)\n",
    "    \n",
    "    # make the dataset linearly separable\n",
    "    data = data[:100]\n",
    "    data[4] = np.where(data.iloc[:, -1]=='Iris-setosa', 0, 1)\n",
    "    data = np.asmatrix(data, dtype = 'float64')\n",
    "    return data\n",
    "data = load_data()"
   ]
  },
  {
   "cell_type": "code",
   "execution_count": 2,
   "id": "5273efae",
   "metadata": {
    "ExecuteTime": {
     "end_time": "2024-03-27T17:15:48.186808Z",
     "start_time": "2024-03-27T17:15:47.976890Z"
    },
    "hidden": true
   },
   "outputs": [
    {
     "data": {
      "image/png": "[encoded data removed]",
      "text/plain": [
       "<Figure size 432x288 with 1 Axes>"
      ]
     },
     "metadata": {
      "needs_background": "light"
     },
     "output_type": "display_data"
    }
   ],
   "source": [
    "# Visualizaing the datas\n",
    "plt.scatter(np.array(data[:50,0]), np.array(data[:50,2]), marker='o', label='setosa')\n",
    "plt.scatter(np.array(data[50:,0]), np.array(data[50:,2]), marker='x', label='versicolor')\n",
    "plt.xlabel('petal length')\n",
    "plt.ylabel('sepal length')\n",
    "plt.legend()\n",
    "plt.show()"
   ]
  },
  {
   "cell_type": "code",
   "execution_count": 3,
   "id": "60d95993",
   "metadata": {
    "ExecuteTime": {
     "end_time": "2024-03-27T17:19:43.583504Z",
     "start_time": "2024-03-27T17:19:43.503919Z"
    },
    "hidden": true
   },
   "outputs": [],
   "source": [
    "# Defining the perceptron\n",
    "def perceptron(data, num_iter):\n",
    "    features = data[:, :-1]\n",
    "    labels = data[:, -1]\n",
    "    \n",
    "    # set weights to zero\n",
    "    w = np.zeros(shape=(1, features.shape[1]+1))\n",
    "    \n",
    "    misclassified_ = [] \n",
    "  \n",
    "    for epoch in range(num_iter):\n",
    "        misclassified = 0\n",
    "        for x, label in zip(features, labels):\n",
    "            x = np.insert(x,0,1)\n",
    "            y = np.dot(w, x.transpose())\n",
    "            target = 1.0 if (y > 0) else 0.0\n",
    "            \n",
    "            delta = (label.item(0,0) - target)\n",
    "            \n",
    "            if(delta): # misclassified\n",
    "                misclassified += 1\n",
    "                w += (delta * x)\n",
    "        \n",
    "        misclassified_.append(misclassified)\n",
    "    return (w, misclassified_)\n",
    "             \n",
    "num_iter = 10\n",
    "w, misclassified_ = perceptron(data, num_iter)"
   ]
  },
  {
   "cell_type": "code",
   "execution_count": 4,
   "id": "5635c9f0",
   "metadata": {
    "ExecuteTime": {
     "end_time": "2024-03-27T17:20:19.918803Z",
     "start_time": "2024-03-27T17:20:19.783034Z"
    },
    "hidden": true
   },
   "outputs": [
    {
     "data": {
      "image/png": "[encoded data removed]",
      "text/plain": [
       "<Figure size 432x288 with 1 Axes>"
      ]
     },
     "metadata": {
      "needs_background": "light"
     },
     "output_type": "display_data"
    }
   ],
   "source": [
    "# Algorithm converge from the 4th iteration\n",
    "epochs = np.arange(1, num_iter+1)\n",
    "plt.plot(epochs, misclassified_)\n",
    "plt.xlabel('iterations')\n",
    "plt.ylabel('misclassified')\n",
    "plt.show()"
   ]
  },
  {
   "cell_type": "markdown",
   "id": "ab318035",
   "metadata": {
    "heading_collapsed": true
   },
   "source": [
    "# Exemplo 2: Base de dados iris"
   ]
  },
  {
   "cell_type": "code",
   "execution_count": 8,
   "id": "e2f985a8",
   "metadata": {
    "ExecuteTime": {
     "end_time": "2024-03-27T18:55:57.173762Z",
     "start_time": "2024-03-27T18:55:57.171121Z"
    },
    "hidden": true
   },
   "outputs": [],
   "source": [
    "import numpy as np\n",
    "from sklearn.datasets import load_iris\n",
    "from sklearn.linear_model import Perceptron "
   ]
  },
  {
   "cell_type": "code",
   "execution_count": 15,
   "id": "d5f6444f",
   "metadata": {
    "ExecuteTime": {
     "end_time": "2024-03-27T18:59:59.816409Z",
     "start_time": "2024-03-27T18:59:59.811157Z"
    },
    "hidden": true
   },
   "outputs": [
    {
     "name": "stderr",
     "output_type": "stream",
     "text": [
      "/var/folders/8c/4qj1vrpn4zv0v54qptvr3fjr0000gn/T/ipykernel_5052/3893419151.py:3: DeprecationWarning: `np.int` is a deprecated alias for the builtin `int`. To silence this warning, use `int` by itself. Doing this will not modify any behavior and is safe. When replacing `np.int`, you may wish to use e.g. `np.int64` or `np.int32` to specify the precision. If you wish to review your current use, check the release note link for additional information.\n",
      "Deprecated in NumPy 1.20; for more details and guidance: https://numpy.org/devdocs/release/1.20.0-notes.html#deprecations\n",
      "  y = (iris.target == 0).astype(np.int) # Iris setosa?\n"
     ]
    }
   ],
   "source": [
    "iris = load_iris()\n",
    "X = iris.data[:, (2, 3)] # petal length, petal width\n",
    "y = (iris.target == 0).astype(np.int) # Iris setosa?"
   ]
  },
  {
   "cell_type": "code",
   "execution_count": 16,
   "id": "283961e8",
   "metadata": {
    "ExecuteTime": {
     "end_time": "2024-03-27T19:00:28.997423Z",
     "start_time": "2024-03-27T19:00:28.985820Z"
    },
    "hidden": true
   },
   "outputs": [
    {
     "data": {
      "text/plain": [
       "Perceptron()"
      ]
     },
     "execution_count": 16,
     "metadata": {},
     "output_type": "execute_result"
    }
   ],
   "source": [
    "per_clf = Perceptron()\n",
    "per_clf.fit(X, y)"
   ]
  },
  {
   "cell_type": "code",
   "execution_count": 18,
   "id": "a24e4c12",
   "metadata": {
    "ExecuteTime": {
     "end_time": "2024-03-27T19:01:08.806121Z",
     "start_time": "2024-03-27T19:01:08.801775Z"
    },
    "hidden": true
   },
   "outputs": [
    {
     "data": {
      "text/plain": [
       "array([0])"
      ]
     },
     "execution_count": 18,
     "metadata": {},
     "output_type": "execute_result"
    }
   ],
   "source": [
    "y_pred = per_clf.predict([[2, 0.5]])\n",
    "y_pred"
   ]
  },
  {
   "cell_type": "markdown",
   "id": "9ace8980",
   "metadata": {
    "heading_collapsed": true
   },
   "source": [
    "# Exemplo 3: usando TensorFlow 2"
   ]
  },
  {
   "cell_type": "markdown",
   "id": "5bc85edd",
   "metadata": {
    "hidden": true
   },
   "source": [
    "Importante seguir os passos de instalação do TensorFlow antes de rodar o código a seguir."
   ]
  },
  {
   "cell_type": "code",
   "execution_count": 1,
   "id": "f2769ce9",
   "metadata": {
    "ExecuteTime": {
     "end_time": "2024-03-27T19:33:10.343700Z",
     "start_time": "2024-03-27T19:32:51.022053Z"
    },
    "hidden": true
   },
   "outputs": [],
   "source": [
    "import tensorflow as tf\n",
    "from tensorflow import keras"
   ]
  },
  {
   "cell_type": "code",
   "execution_count": 2,
   "id": "73a9d710",
   "metadata": {
    "ExecuteTime": {
     "end_time": "2024-03-27T19:33:26.762762Z",
     "start_time": "2024-03-27T19:33:26.752630Z"
    },
    "hidden": true
   },
   "outputs": [
    {
     "data": {
      "text/plain": [
       "'2.8.0'"
      ]
     },
     "execution_count": 2,
     "metadata": {},
     "output_type": "execute_result"
    }
   ],
   "source": [
    "tf.__version__"
   ]
  },
  {
   "cell_type": "code",
   "execution_count": 3,
   "id": "f394afa3",
   "metadata": {
    "ExecuteTime": {
     "end_time": "2024-03-27T19:33:39.782779Z",
     "start_time": "2024-03-27T19:33:39.779153Z"
    },
    "hidden": true
   },
   "outputs": [
    {
     "data": {
      "text/plain": [
       "'2.8.0'"
      ]
     },
     "execution_count": 3,
     "metadata": {},
     "output_type": "execute_result"
    }
   ],
   "source": [
    "keras.__version__"
   ]
  },
  {
   "cell_type": "markdown",
   "id": "9f452dce",
   "metadata": {
    "heading_collapsed": true,
    "hidden": true
   },
   "source": [
    "## Classificador de imagem"
   ]
  },
  {
   "cell_type": "markdown",
   "id": "6f255d0b",
   "metadata": {
    "hidden": true
   },
   "source": [
    "- Dados: Fashion MNIST"
   ]
  },
  {
   "cell_type": "code",
   "execution_count": 4,
   "id": "e79e9a6e",
   "metadata": {
    "ExecuteTime": {
     "end_time": "2024-03-27T19:35:37.347263Z",
     "start_time": "2024-03-27T19:35:37.344729Z"
    },
    "hidden": true
   },
   "outputs": [],
   "source": [
    "fashion_mnist = keras.datasets.fashion_mnist"
   ]
  },
  {
   "cell_type": "code",
   "execution_count": 7,
   "id": "60196a6f",
   "metadata": {
    "ExecuteTime": {
     "end_time": "2024-03-27T19:36:52.557602Z",
     "start_time": "2024-03-27T19:36:48.401481Z"
    },
    "hidden": true
   },
   "outputs": [
    {
     "name": "stdout",
     "output_type": "stream",
     "text": [
      "Downloading data from https://storage.googleapis.com/tensorflow/tf-keras-datasets/train-labels-idx1-ubyte.gz\n",
      "32768/29515 [=================================] - 0s 2us/step\n",
      "40960/29515 [=========================================] - 0s 2us/step\n",
      "Downloading data from https://storage.googleapis.com/tensorflow/tf-keras-datasets/train-images-idx3-ubyte.gz\n",
      "26427392/26421880 [==============================] - 2s 0us/step\n",
      "26435584/26421880 [==============================] - 2s 0us/step\n",
      "Downloading data from https://storage.googleapis.com/tensorflow/tf-keras-datasets/t10k-labels-idx1-ubyte.gz\n",
      "16384/5148 [===============================================================================================] - 0s 0us/step\n",
      "Downloading data from https://storage.googleapis.com/tensorflow/tf-keras-datasets/t10k-images-idx3-ubyte.gz\n",
      "4423680/4422102 [==============================] - 1s 0us/step\n",
      "4431872/4422102 [==============================] - 1s 0us/step\n"
     ]
    }
   ],
   "source": [
    "(X_train_full, y_train_full), (X_test, y_test) = fashion_mnist.load_data()"
   ]
  },
  {
   "cell_type": "code",
   "execution_count": 8,
   "id": "2893d9f1",
   "metadata": {
    "ExecuteTime": {
     "end_time": "2024-03-27T19:37:25.864882Z",
     "start_time": "2024-03-27T19:37:25.861764Z"
    },
    "hidden": true
   },
   "outputs": [
    {
     "data": {
      "text/plain": [
       "(60000, 28, 28)"
      ]
     },
     "execution_count": 8,
     "metadata": {},
     "output_type": "execute_result"
    }
   ],
   "source": [
    "# Shape\n",
    "X_train_full.shape"
   ]
  },
  {
   "cell_type": "code",
   "execution_count": 9,
   "id": "f7156aba",
   "metadata": {
    "ExecuteTime": {
     "end_time": "2024-03-27T19:37:40.918754Z",
     "start_time": "2024-03-27T19:37:40.915766Z"
    },
    "hidden": true
   },
   "outputs": [
    {
     "data": {
      "text/plain": [
       "dtype('uint8')"
      ]
     },
     "execution_count": 9,
     "metadata": {},
     "output_type": "execute_result"
    }
   ],
   "source": [
    "X_train_full.dtype"
   ]
  },
  {
   "cell_type": "markdown",
   "id": "088a4eb6",
   "metadata": {
    "hidden": true
   },
   "source": [
    "- Os dados já estão divididos em treino e teste, mas não em validação. \n",
    "- Vamos reescalar a intensidade do pixel no range 0-1, por isso dividimos por 255.0 para que seja um float. "
   ]
  },
  {
   "cell_type": "code",
   "execution_count": 10,
   "id": "8ebf933a",
   "metadata": {
    "ExecuteTime": {
     "end_time": "2024-03-27T19:41:06.128765Z",
     "start_time": "2024-03-27T19:41:05.858434Z"
    },
    "hidden": true
   },
   "outputs": [],
   "source": [
    "X_valid, X_train = X_train_full[:5000]/255.0, X_train_full[5000:]/255.0\n",
    "y_valid, y_train = y_train_full[:5000], y_train_full[5000:]"
   ]
  },
  {
   "cell_type": "code",
   "execution_count": 11,
   "id": "b3b0213b",
   "metadata": {
    "ExecuteTime": {
     "end_time": "2024-03-27T19:42:36.338159Z",
     "start_time": "2024-03-27T19:42:36.335786Z"
    },
    "hidden": true
   },
   "outputs": [],
   "source": [
    "# Lista com o nome das classes\n",
    "class_names = [\"T-shirt/top\", \"Trouser\", \"Pullover\", \"Dress\", \"Coat\", \"Sandal\", \"Shirt\", \"Sneaker\",\n",
    "              \"Bag\", \"Ankle boot\"]"
   ]
  },
  {
   "cell_type": "code",
   "execution_count": 12,
   "id": "b799c305",
   "metadata": {
    "ExecuteTime": {
     "end_time": "2024-03-27T19:43:05.228139Z",
     "start_time": "2024-03-27T19:43:05.224883Z"
    },
    "hidden": true
   },
   "outputs": [
    {
     "data": {
      "text/plain": [
       "'Coat'"
      ]
     },
     "execution_count": 12,
     "metadata": {},
     "output_type": "execute_result"
    }
   ],
   "source": [
    "# Olhando o primeiro nome no conjunto de treino\n",
    "class_names[y_train[0]]"
   ]
  },
  {
   "cell_type": "markdown",
   "id": "fc46b396",
   "metadata": {
    "ExecuteTime": {
     "end_time": "2024-03-27T19:43:12.674229Z",
     "start_time": "2024-03-27T19:43:12.671072Z"
    },
    "hidden": true
   },
   "source": [
    "### Modelo"
   ]
  },
  {
   "cell_type": "code",
   "execution_count": 14,
   "id": "efe8c491",
   "metadata": {
    "ExecuteTime": {
     "end_time": "2024-03-27T20:05:59.883519Z",
     "start_time": "2024-03-27T20:05:59.834143Z"
    },
    "hidden": true
   },
   "outputs": [
    {
     "name": "stderr",
     "output_type": "stream",
     "text": [
      "2024-03-27 17:05:59.840259: I tensorflow/core/platform/cpu_feature_guard.cc:151] This TensorFlow binary is optimized with oneAPI Deep Neural Network Library (oneDNN) to use the following CPU instructions in performance-critical operations:  AVX2 FMA\n",
      "To enable them in other operations, rebuild TensorFlow with the appropriate compiler flags.\n"
     ]
    }
   ],
   "source": [
    "model = keras.models.Sequential() # modelo sequencial\n",
    "model.add(keras.layers.Flatten(input_shape=[28, 28])) # primeira camada - preprocessing\n",
    "model.add(keras.layers.Dense(300, activation=\"relu\")) # camada escondida com 300 neuronios\n",
    "model.add(keras.layers.Dense(100, activation=\"relu\")) # camada escondida com 100 neuronios\n",
    "model.add(keras.layers.Dense(10, activation=\"softmax\")) "
   ]
  },
  {
   "cell_type": "code",
   "execution_count": 15,
   "id": "e9951441",
   "metadata": {
    "ExecuteTime": {
     "end_time": "2024-03-27T20:10:44.528510Z",
     "start_time": "2024-03-27T20:10:44.516956Z"
    },
    "hidden": true
   },
   "outputs": [
    {
     "name": "stdout",
     "output_type": "stream",
     "text": [
      "Model: \"sequential\"\n",
      "_________________________________________________________________\n",
      " Layer (type)                Output Shape              Param #   \n",
      "=================================================================\n",
      " flatten (Flatten)           (None, 784)               0         \n",
      "                                                                 \n",
      " dense (Dense)               (None, 300)               235500    \n",
      "                                                                 \n",
      " dense_1 (Dense)             (None, 100)               30100     \n",
      "                                                                 \n",
      " dense_2 (Dense)             (None, 10)                1010      \n",
      "                                                                 \n",
      "=================================================================\n",
      "Total params: 266,610\n",
      "Trainable params: 266,610\n",
      "Non-trainable params: 0\n",
      "_________________________________________________________________\n"
     ]
    }
   ],
   "source": [
    "model.summary()"
   ]
  },
  {
   "cell_type": "code",
   "execution_count": 16,
   "id": "60e6e243",
   "metadata": {
    "ExecuteTime": {
     "end_time": "2024-03-27T20:24:47.475088Z",
     "start_time": "2024-03-27T20:24:47.470711Z"
    },
    "hidden": true
   },
   "outputs": [
    {
     "data": {
      "text/plain": [
       "[<keras.layers.core.flatten.Flatten at 0x16e1abd00>,\n",
       " <keras.layers.core.dense.Dense at 0x16dea8250>,\n",
       " <keras.layers.core.dense.Dense at 0x15d0f35e0>,\n",
       " <keras.layers.core.dense.Dense at 0x15e038d00>]"
      ]
     },
     "execution_count": 16,
     "metadata": {},
     "output_type": "execute_result"
    }
   ],
   "source": [
    "model.layers"
   ]
  },
  {
   "cell_type": "code",
   "execution_count": 19,
   "id": "d380ee65",
   "metadata": {
    "ExecuteTime": {
     "end_time": "2024-03-27T20:25:20.244481Z",
     "start_time": "2024-03-27T20:25:20.240665Z"
    },
    "hidden": true
   },
   "outputs": [
    {
     "data": {
      "text/plain": [
       "'dense'"
      ]
     },
     "execution_count": 19,
     "metadata": {},
     "output_type": "execute_result"
    }
   ],
   "source": [
    "hidden1 = model.layers[1]\n",
    "hidden1.name"
   ]
  },
  {
   "cell_type": "code",
   "execution_count": 20,
   "id": "fb324d41",
   "metadata": {
    "ExecuteTime": {
     "end_time": "2024-03-27T20:25:42.492309Z",
     "start_time": "2024-03-27T20:25:42.488595Z"
    },
    "hidden": true
   },
   "outputs": [
    {
     "data": {
      "text/plain": [
       "True"
      ]
     },
     "execution_count": 20,
     "metadata": {},
     "output_type": "execute_result"
    }
   ],
   "source": [
    "model.get_layer('dense') is hidden1"
   ]
  },
  {
   "cell_type": "markdown",
   "id": "9455a1d1",
   "metadata": {
    "hidden": true
   },
   "source": [
    "- Os parâmetros de uma camada podem ser acessados com os métodos `get_weights()` e `set_weights()`. "
   ]
  },
  {
   "cell_type": "code",
   "execution_count": 21,
   "id": "b6ea32a8",
   "metadata": {
    "ExecuteTime": {
     "end_time": "2024-03-27T20:27:06.705661Z",
     "start_time": "2024-03-27T20:27:06.700045Z"
    },
    "hidden": true
   },
   "outputs": [],
   "source": [
    "weights, biases = hidden1.get_weights()"
   ]
  },
  {
   "cell_type": "code",
   "execution_count": 22,
   "id": "d841f1d5",
   "metadata": {
    "ExecuteTime": {
     "end_time": "2024-03-27T20:27:10.948329Z",
     "start_time": "2024-03-27T20:27:10.936617Z"
    },
    "hidden": true
   },
   "outputs": [
    {
     "data": {
      "text/plain": [
       "array([[-0.00946181,  0.0015028 ,  0.05971155, ...,  0.02312519,\n",
       "         0.04161923,  0.01908444],\n",
       "       [ 0.02473325, -0.06967049, -0.02904531, ..., -0.07180941,\n",
       "        -0.01904084,  0.06067112],\n",
       "       [ 0.05974896,  0.02881112, -0.03210685, ...,  0.07281812,\n",
       "         0.04838354,  0.01625426],\n",
       "       ...,\n",
       "       [-0.04639084,  0.06796992,  0.03259836, ..., -0.050868  ,\n",
       "        -0.0331317 , -0.06099945],\n",
       "       [ 0.03797891,  0.04731725,  0.03361073, ..., -0.00148975,\n",
       "         0.0362955 ,  0.00690753],\n",
       "       [-0.04448372,  0.02468251,  0.02420811, ..., -0.06213655,\n",
       "         0.03156753,  0.01967646]], dtype=float32)"
      ]
     },
     "execution_count": 22,
     "metadata": {},
     "output_type": "execute_result"
    }
   ],
   "source": [
    "weights"
   ]
  },
  {
   "cell_type": "code",
   "execution_count": 23,
   "id": "86a32163",
   "metadata": {
    "ExecuteTime": {
     "end_time": "2024-03-27T20:27:19.240152Z",
     "start_time": "2024-03-27T20:27:19.236368Z"
    },
    "hidden": true
   },
   "outputs": [
    {
     "data": {
      "text/plain": [
       "(784, 300)"
      ]
     },
     "execution_count": 23,
     "metadata": {},
     "output_type": "execute_result"
    }
   ],
   "source": [
    "weights.shape"
   ]
  },
  {
   "cell_type": "code",
   "execution_count": 24,
   "id": "d91ec034",
   "metadata": {
    "ExecuteTime": {
     "end_time": "2024-03-27T20:27:28.418165Z",
     "start_time": "2024-03-27T20:27:28.413072Z"
    },
    "hidden": true
   },
   "outputs": [
    {
     "data": {
      "text/plain": [
       "array([0., 0., 0., 0., 0., 0., 0., 0., 0., 0., 0., 0., 0., 0., 0., 0., 0.,\n",
       "       0., 0., 0., 0., 0., 0., 0., 0., 0., 0., 0., 0., 0., 0., 0., 0., 0.,\n",
       "       0., 0., 0., 0., 0., 0., 0., 0., 0., 0., 0., 0., 0., 0., 0., 0., 0.,\n",
       "       0., 0., 0., 0., 0., 0., 0., 0., 0., 0., 0., 0., 0., 0., 0., 0., 0.,\n",
       "       0., 0., 0., 0., 0., 0., 0., 0., 0., 0., 0., 0., 0., 0., 0., 0., 0.,\n",
       "       0., 0., 0., 0., 0., 0., 0., 0., 0., 0., 0., 0., 0., 0., 0., 0., 0.,\n",
       "       0., 0., 0., 0., 0., 0., 0., 0., 0., 0., 0., 0., 0., 0., 0., 0., 0.,\n",
       "       0., 0., 0., 0., 0., 0., 0., 0., 0., 0., 0., 0., 0., 0., 0., 0., 0.,\n",
       "       0., 0., 0., 0., 0., 0., 0., 0., 0., 0., 0., 0., 0., 0., 0., 0., 0.,\n",
       "       0., 0., 0., 0., 0., 0., 0., 0., 0., 0., 0., 0., 0., 0., 0., 0., 0.,\n",
       "       0., 0., 0., 0., 0., 0., 0., 0., 0., 0., 0., 0., 0., 0., 0., 0., 0.,\n",
       "       0., 0., 0., 0., 0., 0., 0., 0., 0., 0., 0., 0., 0., 0., 0., 0., 0.,\n",
       "       0., 0., 0., 0., 0., 0., 0., 0., 0., 0., 0., 0., 0., 0., 0., 0., 0.,\n",
       "       0., 0., 0., 0., 0., 0., 0., 0., 0., 0., 0., 0., 0., 0., 0., 0., 0.,\n",
       "       0., 0., 0., 0., 0., 0., 0., 0., 0., 0., 0., 0., 0., 0., 0., 0., 0.,\n",
       "       0., 0., 0., 0., 0., 0., 0., 0., 0., 0., 0., 0., 0., 0., 0., 0., 0.,\n",
       "       0., 0., 0., 0., 0., 0., 0., 0., 0., 0., 0., 0., 0., 0., 0., 0., 0.,\n",
       "       0., 0., 0., 0., 0., 0., 0., 0., 0., 0., 0.], dtype=float32)"
      ]
     },
     "execution_count": 24,
     "metadata": {},
     "output_type": "execute_result"
    }
   ],
   "source": [
    "biases"
   ]
  },
  {
   "cell_type": "code",
   "execution_count": 25,
   "id": "9d052e30",
   "metadata": {
    "ExecuteTime": {
     "end_time": "2024-03-27T20:27:37.248442Z",
     "start_time": "2024-03-27T20:27:37.244584Z"
    },
    "hidden": true
   },
   "outputs": [
    {
     "data": {
      "text/plain": [
       "(300,)"
      ]
     },
     "execution_count": 25,
     "metadata": {},
     "output_type": "execute_result"
    }
   ],
   "source": [
    "biases.shape"
   ]
  },
  {
   "cell_type": "code",
   "execution_count": 26,
   "id": "fe95c44f",
   "metadata": {
    "ExecuteTime": {
     "end_time": "2024-03-27T20:29:13.150331Z",
     "start_time": "2024-03-27T20:29:13.141697Z"
    },
    "hidden": true
   },
   "outputs": [],
   "source": [
    "# Compile the model\n",
    "model.compile(loss = \"sparse_categorical_crossentropy\",\n",
    "             optimizer = \"sgd\", metrics = [\"accuracy\"])"
   ]
  },
  {
   "cell_type": "markdown",
   "id": "73747968",
   "metadata": {
    "hidden": true
   },
   "source": [
    "### Treino e avaliação do modelo"
   ]
  },
  {
   "cell_type": "code",
   "execution_count": 27,
   "id": "7d314f88",
   "metadata": {
    "ExecuteTime": {
     "end_time": "2024-03-27T20:33:27.703398Z",
     "start_time": "2024-03-27T20:32:16.034845Z"
    },
    "hidden": true
   },
   "outputs": [
    {
     "name": "stdout",
     "output_type": "stream",
     "text": [
      "Epoch 1/30\n",
      "1719/1719 [==============================] - 3s 1ms/step - loss: 0.7078 - accuracy: 0.7683 - val_loss: 0.4930 - val_accuracy: 0.8374\n",
      "Epoch 2/30\n",
      "1719/1719 [==============================] - 2s 1ms/step - loss: 0.4866 - accuracy: 0.8295 - val_loss: 0.4453 - val_accuracy: 0.8488\n",
      "Epoch 3/30\n",
      "1719/1719 [==============================] - 2s 1ms/step - loss: 0.4411 - accuracy: 0.8449 - val_loss: 0.4296 - val_accuracy: 0.8516\n",
      "Epoch 4/30\n",
      "1719/1719 [==============================] - 2s 1ms/step - loss: 0.4142 - accuracy: 0.8550 - val_loss: 0.3974 - val_accuracy: 0.8634\n",
      "Epoch 5/30\n",
      "1719/1719 [==============================] - 3s 1ms/step - loss: 0.3943 - accuracy: 0.8620 - val_loss: 0.4443 - val_accuracy: 0.8350\n",
      "Epoch 6/30\n",
      "1719/1719 [==============================] - 3s 1ms/step - loss: 0.3805 - accuracy: 0.8668 - val_loss: 0.3748 - val_accuracy: 0.8726\n",
      "Epoch 7/30\n",
      "1719/1719 [==============================] - 2s 1ms/step - loss: 0.3661 - accuracy: 0.8708 - val_loss: 0.3710 - val_accuracy: 0.8718\n",
      "Epoch 8/30\n",
      "1719/1719 [==============================] - 2s 1ms/step - loss: 0.3566 - accuracy: 0.8738 - val_loss: 0.3607 - val_accuracy: 0.8752\n",
      "Epoch 9/30\n",
      "1719/1719 [==============================] - 2s 1ms/step - loss: 0.3445 - accuracy: 0.8783 - val_loss: 0.3536 - val_accuracy: 0.8798\n",
      "Epoch 10/30\n",
      "1719/1719 [==============================] - 2s 1ms/step - loss: 0.3356 - accuracy: 0.8805 - val_loss: 0.3554 - val_accuracy: 0.8766\n",
      "Epoch 11/30\n",
      "1719/1719 [==============================] - 2s 1ms/step - loss: 0.3261 - accuracy: 0.8840 - val_loss: 0.3485 - val_accuracy: 0.8774\n",
      "Epoch 12/30\n",
      "1719/1719 [==============================] - 2s 1ms/step - loss: 0.3186 - accuracy: 0.8868 - val_loss: 0.3369 - val_accuracy: 0.8810\n",
      "Epoch 13/30\n",
      "1719/1719 [==============================] - 2s 1ms/step - loss: 0.3110 - accuracy: 0.8877 - val_loss: 0.3300 - val_accuracy: 0.8808\n",
      "Epoch 14/30\n",
      "1719/1719 [==============================] - 2s 1ms/step - loss: 0.3041 - accuracy: 0.8904 - val_loss: 0.3280 - val_accuracy: 0.8858\n",
      "Epoch 15/30\n",
      "1719/1719 [==============================] - 2s 1ms/step - loss: 0.2977 - accuracy: 0.8936 - val_loss: 0.3248 - val_accuracy: 0.8820\n",
      "Epoch 16/30\n",
      "1719/1719 [==============================] - 2s 1ms/step - loss: 0.2913 - accuracy: 0.8941 - val_loss: 0.3251 - val_accuracy: 0.8820\n",
      "Epoch 17/30\n",
      "1719/1719 [==============================] - 2s 1ms/step - loss: 0.2855 - accuracy: 0.8969 - val_loss: 0.3147 - val_accuracy: 0.8900\n",
      "Epoch 18/30\n",
      "1719/1719 [==============================] - 2s 1ms/step - loss: 0.2808 - accuracy: 0.8985 - val_loss: 0.3177 - val_accuracy: 0.8866\n",
      "Epoch 19/30\n",
      "1719/1719 [==============================] - 2s 1ms/step - loss: 0.2749 - accuracy: 0.9001 - val_loss: 0.3209 - val_accuracy: 0.8860\n",
      "Epoch 20/30\n",
      "1719/1719 [==============================] - 2s 1ms/step - loss: 0.2699 - accuracy: 0.9021 - val_loss: 0.3258 - val_accuracy: 0.8854\n",
      "Epoch 21/30\n",
      "1719/1719 [==============================] - 2s 1ms/step - loss: 0.2657 - accuracy: 0.9041 - val_loss: 0.3106 - val_accuracy: 0.8886\n",
      "Epoch 22/30\n",
      "1719/1719 [==============================] - 2s 1ms/step - loss: 0.2607 - accuracy: 0.9059 - val_loss: 0.3048 - val_accuracy: 0.8882\n",
      "Epoch 23/30\n",
      "1719/1719 [==============================] - 2s 1ms/step - loss: 0.2565 - accuracy: 0.9077 - val_loss: 0.3139 - val_accuracy: 0.8866\n",
      "Epoch 24/30\n",
      "1719/1719 [==============================] - 2s 1ms/step - loss: 0.2524 - accuracy: 0.9100 - val_loss: 0.3029 - val_accuracy: 0.8910\n",
      "Epoch 25/30\n",
      "1719/1719 [==============================] - 2s 1ms/step - loss: 0.2472 - accuracy: 0.9110 - val_loss: 0.3192 - val_accuracy: 0.8880\n",
      "Epoch 26/30\n",
      "1719/1719 [==============================] - 2s 1ms/step - loss: 0.2428 - accuracy: 0.9124 - val_loss: 0.3086 - val_accuracy: 0.8814\n",
      "Epoch 27/30\n",
      "1719/1719 [==============================] - 2s 1ms/step - loss: 0.2394 - accuracy: 0.9144 - val_loss: 0.3008 - val_accuracy: 0.8918\n",
      "Epoch 28/30\n",
      "1719/1719 [==============================] - 2s 1ms/step - loss: 0.2348 - accuracy: 0.9156 - val_loss: 0.3109 - val_accuracy: 0.8840\n",
      "Epoch 29/30\n",
      "1719/1719 [==============================] - 2s 1ms/step - loss: 0.2308 - accuracy: 0.9162 - val_loss: 0.3033 - val_accuracy: 0.8906\n",
      "Epoch 30/30\n",
      "1719/1719 [==============================] - 2s 1ms/step - loss: 0.2274 - accuracy: 0.9189 - val_loss: 0.2971 - val_accuracy: 0.8926\n"
     ]
    }
   ],
   "source": [
    "history = model.fit(X_train, y_train, epochs=30,\n",
    "                   validation_data=(X_valid, y_valid))"
   ]
  },
  {
   "cell_type": "markdown",
   "id": "c949280f",
   "metadata": {
    "hidden": true
   },
   "source": [
    "- A perda vai caindo com as iterações, e a acurácia da validação não está tão longe da acurácia do treino, então podemos dizer que não houve overfitting. "
   ]
  },
  {
   "cell_type": "code",
   "execution_count": 38,
   "id": "185bb247",
   "metadata": {
    "ExecuteTime": {
     "end_time": "2024-03-27T22:19:42.207595Z",
     "start_time": "2024-03-27T22:19:42.042866Z"
    },
    "hidden": true
   },
   "outputs": [
    {
     "data": {
      "image/png": "[encoded data removed]",
      "text/plain": [
       "<Figure size 576x360 with 1 Axes>"
      ]
     },
     "metadata": {
      "needs_background": "light"
     },
     "output_type": "display_data"
    }
   ],
   "source": [
    "import pandas as pd\n",
    "import matplotlib.pyplot as plt\n",
    "import numpy as np\n",
    "\n",
    "pd.DataFrame(history.history).plot(figsize=(8, 5))\n",
    "plt.grid(True)\n",
    "plt.gca().set_ylim(0, 1)\n",
    "plt.show()"
   ]
  },
  {
   "cell_type": "code",
   "execution_count": 29,
   "id": "752a4e6c",
   "metadata": {
    "ExecuteTime": {
     "end_time": "2024-03-27T22:10:00.089047Z",
     "start_time": "2024-03-27T22:09:59.507748Z"
    },
    "hidden": true
   },
   "outputs": [
    {
     "name": "stdout",
     "output_type": "stream",
     "text": [
      "313/313 [==============================] - 1s 1ms/step - loss: 67.7934 - accuracy: 0.8371\n"
     ]
    },
    {
     "data": {
      "text/plain": [
       "[67.79342651367188, 0.8371000289916992]"
      ]
     },
     "execution_count": 29,
     "metadata": {},
     "output_type": "execute_result"
    }
   ],
   "source": [
    "# Avaliando o modelo no conjunto de teste\n",
    "model.evaluate(X_test, y_test)"
   ]
  },
  {
   "cell_type": "markdown",
   "id": "b65b8444",
   "metadata": {
    "hidden": true
   },
   "source": [
    "### Usando o modelo para fazer predição"
   ]
  },
  {
   "cell_type": "code",
   "execution_count": 30,
   "id": "7af63211",
   "metadata": {
    "ExecuteTime": {
     "end_time": "2024-03-27T22:13:14.957193Z",
     "start_time": "2024-03-27T22:13:14.954603Z"
    },
    "hidden": true
   },
   "outputs": [],
   "source": [
    "X_new = X_test[:3] # primeiras 3 observações da base de teste"
   ]
  },
  {
   "cell_type": "code",
   "execution_count": 31,
   "id": "6c943f1d",
   "metadata": {
    "ExecuteTime": {
     "end_time": "2024-03-27T22:13:36.847772Z",
     "start_time": "2024-03-27T22:13:36.722415Z"
    },
    "hidden": true
   },
   "outputs": [
    {
     "data": {
      "text/plain": [
       "array([[0., 0., 0., 0., 0., 0., 0., 0., 0., 1.],\n",
       "       [0., 0., 1., 0., 0., 0., 0., 0., 0., 0.],\n",
       "       [0., 1., 0., 0., 0., 0., 0., 0., 0., 0.]], dtype=float32)"
      ]
     },
     "execution_count": 31,
     "metadata": {},
     "output_type": "execute_result"
    }
   ],
   "source": [
    "y_proba = model.predict(X_new)\n",
    "y_proba.round(2)"
   ]
  },
  {
   "cell_type": "markdown",
   "id": "8eca69eb",
   "metadata": {
    "hidden": true
   },
   "source": [
    "- Vemos uma probablidade por classe (da 0 a 9). \n",
    "- Podemos ver a que tipo de peça se refere cada um."
   ]
  },
  {
   "cell_type": "code",
   "execution_count": 36,
   "id": "09e7584d",
   "metadata": {
    "ExecuteTime": {
     "end_time": "2024-03-27T22:19:02.420593Z",
     "start_time": "2024-03-27T22:19:02.386150Z"
    },
    "hidden": true
   },
   "outputs": [
    {
     "name": "stdout",
     "output_type": "stream",
     "text": [
      "[9 2 1]\n"
     ]
    }
   ],
   "source": [
    "y_probabilities = model.predict(X_new)\n",
    "y_pred = y_probabilities.argmax(axis=-1)\n",
    "print(y_pred)"
   ]
  },
  {
   "cell_type": "code",
   "execution_count": 39,
   "id": "5128b6d7",
   "metadata": {
    "ExecuteTime": {
     "end_time": "2024-03-27T22:19:45.779867Z",
     "start_time": "2024-03-27T22:19:45.775510Z"
    },
    "hidden": true
   },
   "outputs": [
    {
     "data": {
      "text/plain": [
       "array(['Ankle boot', 'Pullover', 'Trouser'], dtype='<U11')"
      ]
     },
     "execution_count": 39,
     "metadata": {},
     "output_type": "execute_result"
    }
   ],
   "source": [
    "np.array(class_names)[y_pred]"
   ]
  },
  {
   "cell_type": "code",
   "execution_count": 41,
   "id": "c5a23f5f",
   "metadata": {
    "ExecuteTime": {
     "end_time": "2024-03-27T22:20:48.335110Z",
     "start_time": "2024-03-27T22:20:48.331645Z"
    },
    "hidden": true
   },
   "outputs": [
    {
     "data": {
      "text/plain": [
       "array([9, 2, 1], dtype=uint8)"
      ]
     },
     "execution_count": 41,
     "metadata": {},
     "output_type": "execute_result"
    }
   ],
   "source": [
    "# Checando se o modelo acertou\n",
    "y_new = y_test[:3]\n",
    "y_new"
   ]
  },
  {
   "cell_type": "markdown",
   "id": "9424aa94",
   "metadata": {
    "ExecuteTime": {
     "end_time": "2024-03-27T22:21:22.480247Z",
     "start_time": "2024-03-27T22:21:22.477269Z"
    },
    "hidden": true
   },
   "source": [
    "- O modelo classificou corretamente o tipo de peça. "
   ]
  },
  {
   "cell_type": "code",
   "execution_count": null,
   "id": "f6d8f6dc",
   "metadata": {
    "hidden": true
   },
   "outputs": [],
   "source": []
  }
 ],
 "metadata": {
  "kernelspec": {
   "display_name": "Python 3 (ipykernel)",
   "language": "python",
   "name": "python3"
  },
  "language_info": {
   "codemirror_mode": {
    "name": "ipython",
    "version": 3
   },
   "file_extension": ".py",
   "mimetype": "text/x-python",
   "name": "python",
   "nbconvert_exporter": "python",
   "pygments_lexer": "ipython3",
   "version": "3.9.13"
  }
 },
 "nbformat": 4,
 "nbformat_minor": 5
}
