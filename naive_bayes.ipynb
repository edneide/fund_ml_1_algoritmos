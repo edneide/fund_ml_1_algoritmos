{
 "cells": [
  {
   "cell_type": "markdown",
   "id": "8635d89d",
   "metadata": {
    "heading_collapsed": true
   },
   "source": [
    "# Exemplo 1: Naive Bayes binário"
   ]
  },
  {
   "cell_type": "markdown",
   "id": "9d56ef22",
   "metadata": {
    "ExecuteTime": {
     "end_time": "2024-03-19T12:51:12.116806Z",
     "start_time": "2024-03-19T12:51:12.108205Z"
    },
    "hidden": true
   },
   "source": [
    "- Neste exemplo, vamos usar somente variáveis categóricas para prever a probabilidade de haver jogo ou não, a partir das variáveis tempo (weather) e temperatura (Temp)."
   ]
  },
  {
   "cell_type": "code",
   "execution_count": 2,
   "id": "5d3d1c43",
   "metadata": {
    "ExecuteTime": {
     "end_time": "2024-03-19T12:55:49.324308Z",
     "start_time": "2024-03-19T12:55:49.318928Z"
    },
    "hidden": true
   },
   "outputs": [],
   "source": [
    "# Criando as variáveis\n",
    "\n",
    "Weather = ['Sunny','Sunny','Overcast','Rainy','Rainy','Rainy','Overcast','Sunny','Sunny',\n",
    "'Rainy','Sunny','Overcast','Overcast','Rainy']\n",
    "\n",
    "Temp = ['Hot','Hot','Hot','Mild','Cool','Cool','Cool','Mild','Cool','Mild','Mild','Mild','Hot','Mild']\n",
    "\n",
    "Play =['No','No','Yes','Yes','Yes','No','Yes','No','Yes','Yes','Yes','Yes','Yes','No']"
   ]
  },
  {
   "cell_type": "markdown",
   "id": "bacd0623",
   "metadata": {
    "hidden": true
   },
   "source": [
    "- Fazendo o encoding das variáveis, ou seja, transformando as strings em valores numéricos:"
   ]
  },
  {
   "cell_type": "code",
   "execution_count": 3,
   "id": "1ebe56ce",
   "metadata": {
    "ExecuteTime": {
     "end_time": "2024-03-19T12:57:58.385691Z",
     "start_time": "2024-03-19T12:57:46.465655Z"
    },
    "hidden": true
   },
   "outputs": [
    {
     "name": "stdout",
     "output_type": "stream",
     "text": [
      "[2 2 0 1 1 1 0 2 2 1 2 0 0 1]\n"
     ]
    }
   ],
   "source": [
    "# Imports\n",
    "from sklearn import preprocessing\n",
    "\n",
    "# criando o labelEncoder\n",
    "le = preprocessing.LabelEncoder()\n",
    "\n",
    "# Convertendo strings em números\n",
    "weather_encoded = le.fit_transform(Weather)\n",
    "print(weather_encoded)"
   ]
  },
  {
   "cell_type": "markdown",
   "id": "62a2b31f",
   "metadata": {
    "hidden": true
   },
   "source": [
    "- Convertendo temperatura e play:"
   ]
  },
  {
   "cell_type": "code",
   "execution_count": 4,
   "id": "c87b0129",
   "metadata": {
    "ExecuteTime": {
     "end_time": "2024-03-19T12:58:59.809357Z",
     "start_time": "2024-03-19T12:58:59.805063Z"
    },
    "hidden": true
   },
   "outputs": [
    {
     "name": "stdout",
     "output_type": "stream",
     "text": [
      "Temp: [1 1 1 2 0 0 0 2 0 2 2 2 1 2]\n",
      "Play : [0 0 1 1 1 0 1 0 1 1 1 1 1 0]\n"
     ]
    }
   ],
   "source": [
    "# Convertendo as outras variáveis\n",
    "temp_encoded = le.fit_transform(Temp)\n",
    "label = le.fit_transform(Play)\n",
    "\n",
    "print(\"Temp:\", temp_encoded)\n",
    "print(\"Play :\", label)"
   ]
  },
  {
   "cell_type": "code",
   "execution_count": 5,
   "id": "343bc040",
   "metadata": {
    "ExecuteTime": {
     "end_time": "2024-03-19T12:59:49.123157Z",
     "start_time": "2024-03-19T12:59:49.119964Z"
    },
    "hidden": true
   },
   "outputs": [
    {
     "name": "stdout",
     "output_type": "stream",
     "text": [
      "[(2, 1), (2, 1), (0, 1), (1, 2), (1, 0), (1, 0), (0, 0), (2, 2), (2, 0), (1, 2), (2, 2), (0, 2), (0, 1), (1, 2)]\n"
     ]
    }
   ],
   "source": [
    "# Combinando variáveis em tuplas\n",
    "\n",
    "features = [tup for tup in zip(weather_encoded, temp_encoded)]\n",
    "print(features)"
   ]
  },
  {
   "cell_type": "markdown",
   "id": "23a19df5",
   "metadata": {
    "hidden": true
   },
   "source": [
    "#### Gerando o Modelo\n",
    "\n",
    "Agora vamos gerar o modelo de Naive Bayes a partir dos seguintes passos:\n",
    "\n",
    "   - Criar um classificador naive bayes\n",
    "   - Ajustar os dados ao classificador\n",
    "   - Fazer a predição"
   ]
  },
  {
   "cell_type": "code",
   "execution_count": 6,
   "id": "2affa939",
   "metadata": {
    "ExecuteTime": {
     "end_time": "2024-03-19T13:02:07.359186Z",
     "start_time": "2024-03-19T13:02:07.349664Z"
    },
    "hidden": true
   },
   "outputs": [
    {
     "name": "stdout",
     "output_type": "stream",
     "text": [
      "Predicted Value: [1]\n"
     ]
    }
   ],
   "source": [
    "#Import Gaussian Naive Bayes model\n",
    "from sklearn.naive_bayes import GaussianNB\n",
    "\n",
    "#Create a Gaussian Classifier\n",
    "model = GaussianNB()\n",
    "\n",
    "# Train the model using the training sets\n",
    "model.fit(features,label)\n",
    "\n",
    "#Predict Output\n",
    "predicted= model.predict([[0,2]]) # 0:Overcast, 2:Mild\n",
    "print(\"Predicted Value:\", predicted)"
   ]
  },
  {
   "cell_type": "markdown",
   "id": "fd434445",
   "metadata": {
    "ExecuteTime": {
     "end_time": "2024-03-19T13:03:12.380811Z",
     "start_time": "2024-03-19T13:03:12.377090Z"
    },
    "hidden": true
   },
   "source": [
    "- Valor predito 1, isto é, vai haver jogo dadas as condições climáticas: tempo nublado com temperatura amena. "
   ]
  },
  {
   "cell_type": "markdown",
   "id": "b6ef55f6",
   "metadata": {
    "heading_collapsed": true
   },
   "source": [
    "# Exemplo 2: Naive Bayes com múltiplas classes"
   ]
  },
  {
   "cell_type": "markdown",
   "id": "bb75d7dd",
   "metadata": {
    "hidden": true
   },
   "source": [
    "Neste exemplo vamos treinar um modelo de naive bayes multinomial. Temos um problema deste tipo quando queremos classificar notícias, por exemplo, em esportes, política, entretenimento, etc. \n",
    "\n",
    "Para este exemplo vamos usar a base de dados de vinho, disponível em  ([UC Irvine](https://archive.ics.uci.edu/ml/datasets/wine)). Este dataset é o resultado de análises químicas de vinhos de uma mesma região da Itália, mas com 3 tipos diferentes de cultivo. \n",
    "\n",
    "\n",
    "O dataset tem 13 features (alcohol, malic_acid, ash, alcalinity_of_ash, magnesium, total_phenols, flavanoids, nonflavanoid_phenols, proanthocyanins, color_intensity, hue, od280/od315_of_diluted_wines, proline) e o tipo de cultivo. Há três tipos de vinho: Class_0, Class_1, and Class_3. \n",
    "\n",
    "Os dados estão disponíveis na biblioteca do scikit-learn."
   ]
  },
  {
   "cell_type": "markdown",
   "id": "fc0396f9",
   "metadata": {
    "heading_collapsed": true,
    "hidden": true
   },
   "source": [
    "## Dados"
   ]
  },
  {
   "cell_type": "code",
   "execution_count": 19,
   "id": "4ab8b326",
   "metadata": {
    "ExecuteTime": {
     "end_time": "2024-03-27T16:13:51.657371Z",
     "start_time": "2024-03-27T16:13:51.648081Z"
    },
    "hidden": true
   },
   "outputs": [],
   "source": [
    "from sklearn import datasets\n",
    "\n",
    "#Load dataset\n",
    "wine = datasets.load_wine()"
   ]
  },
  {
   "cell_type": "markdown",
   "id": "15d39018",
   "metadata": {
    "heading_collapsed": true,
    "hidden": true
   },
   "source": [
    "## Explorando os dados"
   ]
  },
  {
   "cell_type": "code",
   "execution_count": 20,
   "id": "1bd52d18",
   "metadata": {
    "ExecuteTime": {
     "end_time": "2024-03-27T16:13:54.975464Z",
     "start_time": "2024-03-27T16:13:54.971507Z"
    },
    "hidden": true
   },
   "outputs": [
    {
     "name": "stdout",
     "output_type": "stream",
     "text": [
      "Features:  ['alcohol', 'malic_acid', 'ash', 'alcalinity_of_ash', 'magnesium', 'total_phenols', 'flavanoids', 'nonflavanoid_phenols', 'proanthocyanins', 'color_intensity', 'hue', 'od280/od315_of_diluted_wines', 'proline']\n",
      "\n",
      "Labels:  ['class_0' 'class_1' 'class_2']\n"
     ]
    }
   ],
   "source": [
    "# print the names of the 13 features\n",
    "print(\"Features: \", wine.feature_names)\n",
    "\n",
    "# print the label type of wine(class_0, class_1, class_2)\n",
    "print(\"\\nLabels: \", wine.target_names)"
   ]
  },
  {
   "cell_type": "code",
   "execution_count": 21,
   "id": "a4ef24fa",
   "metadata": {
    "ExecuteTime": {
     "end_time": "2024-03-27T16:13:57.442965Z",
     "start_time": "2024-03-27T16:13:57.438786Z"
    },
    "hidden": true
   },
   "outputs": [
    {
     "data": {
      "text/plain": [
       "(178, 13)"
      ]
     },
     "execution_count": 21,
     "metadata": {},
     "output_type": "execute_result"
    }
   ],
   "source": [
    "# print data(feature)shape\n",
    "wine.data.shape"
   ]
  },
  {
   "cell_type": "code",
   "execution_count": 22,
   "id": "f87f0301",
   "metadata": {
    "ExecuteTime": {
     "end_time": "2024-03-27T16:13:59.399466Z",
     "start_time": "2024-03-27T16:13:59.393153Z"
    },
    "hidden": true
   },
   "outputs": [
    {
     "name": "stdout",
     "output_type": "stream",
     "text": [
      "[[1.423e+01 1.710e+00 2.430e+00 1.560e+01 1.270e+02 2.800e+00 3.060e+00\n",
      "  2.800e-01 2.290e+00 5.640e+00 1.040e+00 3.920e+00 1.065e+03]\n",
      " [1.320e+01 1.780e+00 2.140e+00 1.120e+01 1.000e+02 2.650e+00 2.760e+00\n",
      "  2.600e-01 1.280e+00 4.380e+00 1.050e+00 3.400e+00 1.050e+03]\n",
      " [1.316e+01 2.360e+00 2.670e+00 1.860e+01 1.010e+02 2.800e+00 3.240e+00\n",
      "  3.000e-01 2.810e+00 5.680e+00 1.030e+00 3.170e+00 1.185e+03]\n",
      " [1.437e+01 1.950e+00 2.500e+00 1.680e+01 1.130e+02 3.850e+00 3.490e+00\n",
      "  2.400e-01 2.180e+00 7.800e+00 8.600e-01 3.450e+00 1.480e+03]\n",
      " [1.324e+01 2.590e+00 2.870e+00 2.100e+01 1.180e+02 2.800e+00 2.690e+00\n",
      "  3.900e-01 1.820e+00 4.320e+00 1.040e+00 2.930e+00 7.350e+02]]\n"
     ]
    }
   ],
   "source": [
    "# print the wine data features (top 5 records)\n",
    "print(wine.data[0:5])"
   ]
  },
  {
   "cell_type": "code",
   "execution_count": 23,
   "id": "19eb6f21",
   "metadata": {
    "ExecuteTime": {
     "end_time": "2024-03-27T16:14:02.032891Z",
     "start_time": "2024-03-27T16:14:02.027747Z"
    },
    "hidden": true
   },
   "outputs": [
    {
     "name": "stdout",
     "output_type": "stream",
     "text": [
      "[0 0 0 0 0 0 0 0 0 0 0 0 0 0 0 0 0 0 0 0 0 0 0 0 0 0 0 0 0 0 0 0 0 0 0 0 0\n",
      " 0 0 0 0 0 0 0 0 0 0 0 0 0 0 0 0 0 0 0 0 0 0 1 1 1 1 1 1 1 1 1 1 1 1 1 1 1\n",
      " 1 1 1 1 1 1 1 1 1 1 1 1 1 1 1 1 1 1 1 1 1 1 1 1 1 1 1 1 1 1 1 1 1 1 1 1 1\n",
      " 1 1 1 1 1 1 1 1 1 1 1 1 1 1 1 1 1 1 1 2 2 2 2 2 2 2 2 2 2 2 2 2 2 2 2 2 2\n",
      " 2 2 2 2 2 2 2 2 2 2 2 2 2 2 2 2 2 2 2 2 2 2 2 2 2 2 2 2 2 2]\n"
     ]
    }
   ],
   "source": [
    "# print the wine labels (0:Class_0, 1:class_2, 2:class_2)\n",
    "print(wine.target)"
   ]
  },
  {
   "cell_type": "markdown",
   "id": "356fc701",
   "metadata": {
    "ExecuteTime": {
     "end_time": "2024-03-19T17:21:39.458864Z",
     "start_time": "2024-03-19T17:21:39.456626Z"
    },
    "heading_collapsed": true,
    "hidden": true
   },
   "source": [
    "## Dividindo os dados em treino e teste"
   ]
  },
  {
   "cell_type": "code",
   "execution_count": 24,
   "id": "ecf2dea9",
   "metadata": {
    "ExecuteTime": {
     "end_time": "2024-03-27T16:14:04.011162Z",
     "start_time": "2024-03-27T16:14:03.707749Z"
    },
    "hidden": true
   },
   "outputs": [],
   "source": [
    "# Import train_test_split function\n",
    "from sklearn.model_selection import train_test_split\n",
    "\n",
    "# Split dataset into training set and test set\n",
    "X_train, X_test, y_train, y_test = train_test_split(wine.data, \n",
    "                                                    wine.target, \n",
    "                                                    test_size=0.3,   # 70% training and 30% test\n",
    "                                                    random_state=109) "
   ]
  },
  {
   "cell_type": "markdown",
   "id": "36809165",
   "metadata": {
    "heading_collapsed": true,
    "hidden": true
   },
   "source": [
    "## Geração do modelo"
   ]
  },
  {
   "cell_type": "code",
   "execution_count": 25,
   "id": "71ce62f8",
   "metadata": {
    "ExecuteTime": {
     "end_time": "2024-03-27T16:14:37.703754Z",
     "start_time": "2024-03-27T16:14:37.686559Z"
    },
    "hidden": true
   },
   "outputs": [],
   "source": [
    "#Import Gaussian Naive Bayes model\n",
    "from sklearn.naive_bayes import GaussianNB\n",
    "\n",
    "#Create a Gaussian Classifier\n",
    "gnb = GaussianNB()\n",
    "\n",
    "#Train the model using the training sets\n",
    "gnb.fit(X_train, y_train)\n",
    "\n",
    "#Predict the response for test dataset\n",
    "y_pred = gnb.predict(X_test)"
   ]
  },
  {
   "cell_type": "code",
   "execution_count": 26,
   "id": "7e60bdf5",
   "metadata": {
    "ExecuteTime": {
     "end_time": "2024-03-27T16:14:53.542339Z",
     "start_time": "2024-03-27T16:14:53.534890Z"
    },
    "hidden": true
   },
   "outputs": [
    {
     "data": {
      "text/plain": [
       "array([0, 0, 1, 2, 0, 1, 0, 0, 1, 0, 2, 2, 2, 2, 0, 1, 1, 0, 0, 1, 2, 1,\n",
       "       0, 2, 0, 0, 1, 2, 0, 1, 2, 1, 1, 0, 1, 1, 0, 2, 2, 0, 2, 1, 0, 0,\n",
       "       0, 2, 2, 0, 1, 1, 2, 0, 0, 2])"
      ]
     },
     "execution_count": 26,
     "metadata": {},
     "output_type": "execute_result"
    }
   ],
   "source": [
    "y_pred"
   ]
  },
  {
   "cell_type": "markdown",
   "id": "52c9956a",
   "metadata": {
    "heading_collapsed": true,
    "hidden": true
   },
   "source": [
    "## Avaliação do modelo"
   ]
  },
  {
   "cell_type": "code",
   "execution_count": 27,
   "id": "b55af3ed",
   "metadata": {
    "ExecuteTime": {
     "end_time": "2024-03-27T16:20:37.805293Z",
     "start_time": "2024-03-27T16:20:37.796597Z"
    },
    "hidden": true
   },
   "outputs": [
    {
     "name": "stdout",
     "output_type": "stream",
     "text": [
      "Accuracy: 0.9074074074074074\n"
     ]
    }
   ],
   "source": [
    "#Import scikit-learn metrics module for accuracy calculation\n",
    "from sklearn import metrics\n",
    "\n",
    "# Model Accuracy, how often is the classifier correct?\n",
    "print(\"Accuracy:\", metrics.accuracy_score(y_test, y_pred))"
   ]
  },
  {
   "cell_type": "code",
   "execution_count": 30,
   "id": "ae498347",
   "metadata": {
    "ExecuteTime": {
     "end_time": "2024-03-27T16:23:45.112057Z",
     "start_time": "2024-03-27T16:23:45.109693Z"
    },
    "hidden": true
   },
   "outputs": [],
   "source": [
    "# print(\"Recall:\", metrics.recall_score(y_test, y_pred))\n",
    "# print(\"Precision\", metrics.precision_score(y_test, y_pred))"
   ]
  },
  {
   "cell_type": "markdown",
   "id": "92d453d0",
   "metadata": {
    "ExecuteTime": {
     "end_time": "2024-03-27T16:22:57.183667Z",
     "start_time": "2024-03-27T16:22:57.168221Z"
    },
    "hidden": true
   },
   "source": [
    "OBS.: Fazer outro exemplo com classificação binária para calcular Recall e Precision. "
   ]
  }
 ],
 "metadata": {
  "kernelspec": {
   "display_name": "Python 3 (ipykernel)",
   "language": "python",
   "name": "python3"
  },
  "language_info": {
   "codemirror_mode": {
    "name": "ipython",
    "version": 3
   },
   "file_extension": ".py",
   "mimetype": "text/x-python",
   "name": "python",
   "nbconvert_exporter": "python",
   "pygments_lexer": "ipython3",
   "version": "3.9.13"
  }
 },
 "nbformat": 4,
 "nbformat_minor": 5
}
